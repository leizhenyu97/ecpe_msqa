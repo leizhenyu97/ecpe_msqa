{
 "cells": [
  {
   "cell_type": "code",
   "execution_count": 247,
   "metadata": {},
   "outputs": [],
   "source": [
    "import torch\n",
    "import numpy as np\n",
    "import pandas as pd\n",
    "\n",
    "import torch.nn as nn\n",
    "import torch.optim as optim\n",
    "import torchvision.transforms as T\n",
    "\n",
    "import torchviz\n",
    "\n",
    "from model import *\n",
    "from utils import *\n",
    "from dataset_loader import *\n",
    "from config import * \n"
   ]
  },
  {
   "cell_type": "code",
   "execution_count": 248,
   "metadata": {},
   "outputs": [],
   "source": [
    "torch.manual_seed(0)\n",
    "np.random.seed(0)"
   ]
  },
  {
   "cell_type": "code",
   "execution_count": 249,
   "metadata": {},
   "outputs": [
    {
     "name": "stdout",
     "output_type": "stream",
     "text": [
      "using device: cpu\n"
     ]
    }
   ],
   "source": [
    "USE_GPU = True\n",
    "\n",
    "dtype = torch.float32 # we will be using float throughout this tutorial\n",
    "\n",
    "if USE_GPU and torch.cuda.is_available():   # For Nvidia GPU -- cuda\n",
    "    device = torch.device('cuda')\n",
    "elif USE_GPU and torch.backends.mps.is_available(): # For MacOS Ver >=12.3 -- Metal\n",
    "    device = torch.device(\"mps\")\n",
    "else:\n",
    "    device = torch.device('cpu')\n",
    "\n",
    "# For debugging, comment it when training\n",
    "device = torch.device('cpu')\n",
    "\n",
    "\n",
    "print('using device:', device)\n"
   ]
  },
  {
   "cell_type": "code",
   "execution_count": 250,
   "metadata": {},
   "outputs": [],
   "source": [
    "print_every = 100   # Constant to control how frequently we print train loss\n",
    "N = 2               # the repeating block number of ISML, should be >= 1\n",
    "D = 75\n",
    "hidden_size = 100\n",
    "# emb_length = 200\n",
    "batch_size = 8\n",
    "\n",
    "class SecondHalfNet(nn.Module):\n",
    "    def __init__(self,N,D,hidden_size,device):\n",
    "        super().__init__()\n",
    "\n",
    "        self.bilstm_e_list = []\n",
    "        self.bilstm_c_list = []\n",
    "        self.fc_e_list = []\n",
    "        self.fc_c_list = []\n",
    "        for n in range(N):\n",
    "            bilstm_e = nn.LSTM(input_size= hidden_size*2+4*n, hidden_size= hidden_size,\\\n",
    "                               num_layers= 1, batch_first=True,bidirectional=True)\n",
    "            self.bilstm_e_list.append(bilstm_e)\n",
    "\n",
    "            bilstm_c = nn.LSTM(input_size= hidden_size*2+4*n, hidden_size= hidden_size,\\\n",
    "                               num_layers= 1, batch_first=True,bidirectional=True)\n",
    "            self.bilstm_c_list.append(bilstm_c)\n",
    "\n",
    "            fc_e = nn.Linear(hidden_size*2,2)\n",
    "            # nn.init.kaiming_normal_(fc_e.weight)\n",
    "            self.fc_e_list.append(fc_e)\n",
    "\n",
    "            fc_c = nn.Linear(hidden_size*2,2)\n",
    "            # nn.init.kaiming_normal_(fc_c.weight)\n",
    "            self.fc_c_list.append(fc_c)\n",
    "\n",
    "\n",
    "    def forward(self, s1):\n",
    "        # scores = None\n",
    "        self.y_e_list = []\n",
    "        self.y_c_list = []\n",
    "        s_tmp = s1\n",
    "\n",
    "        for n in range(N):\n",
    "            # print(self.bilstm_e_list[n](s_tmp))\n",
    "            e_lstm_out,_ = self.bilstm_e_list[n](s_tmp)\n",
    "            y_e = nn.functional.softmax(self.fc_e_list[n](e_lstm_out),dim=2)\n",
    "            self.y_e_list.append(y_e)\n",
    "\n",
    "            c_lstm_out,_ = self.bilstm_c_list[n](s_tmp)\n",
    "            y_c = nn.functional.softmax(self.fc_c_list[n](c_lstm_out),dim=2)\n",
    "            self.y_c_list.append(y_c)\n",
    "\n",
    "            s_tmp = torch.cat((s_tmp,y_e,y_c),dim=2)\n",
    "            \n",
    "            # print('s_tmp shape',s_tmp.shape)\n",
    "        \n",
    "        \n",
    "        return self.y_e_list,self.y_c_list,s_tmp\n",
    "\n",
    "\n"
   ]
  },
  {
   "cell_type": "code",
   "execution_count": 251,
   "metadata": {},
   "outputs": [
    {
     "name": "stdout",
     "output_type": "stream",
     "text": [
      "2 2 torch.Size([8, 75, 2]) torch.Size([8, 75, 2])\n"
     ]
    }
   ],
   "source": [
    "def test_SecondHalfNet():\n",
    "    s1 = torch.rand((batch_size, D, hidden_size*2), dtype=dtype,device=device,\\\n",
    "                    requires_grad=False) \n",
    "\n",
    "    model = SecondHalfNet(N,D,hidden_size,device)\n",
    "    model = model.to(device=device)\n",
    "    model = torch.compile(model)    # Pytorch 2.0 acceleration\n",
    "    model.train()\n",
    "    # model.eval()\n",
    "\n",
    "    y_e_list,y_c_list,s_final = model(s1)\n",
    "    print(len(y_e_list),len(y_c_list),y_e_list[0].shape,y_c_list[0].shape) \n",
    "\n",
    "    # torch.onnx.export(model, s1, 'secondhalf.onnx')\n",
    "    \n",
    "    # dots = torchviz.make_dot(s_tmp,params=dict(model.named_parameters()),show_attrs=False, show_saved=False)\n",
    "    # dots.format = 'png'\n",
    "    # dots.render('secondhalf_modelviz')\n",
    "    \n",
    "test_SecondHalfNet()"
   ]
  },
  {
   "cell_type": "code",
   "execution_count": 252,
   "metadata": {},
   "outputs": [],
   "source": [
    "def load_data(configs):\n",
    "    if configs.split == 'split10':\n",
    "        n_folds = 10\n",
    "        configs.epochs = 20\n",
    "    elif configs.split == 'split20':\n",
    "        n_folds = 20\n",
    "        configs.epochs = 15\n",
    "    else:\n",
    "        print('Unknown data split.')\n",
    "        exit()\n",
    "        \n",
    "    fold_id = 1\n",
    "    train_loader = build_train_data(configs, fold_id=fold_id)\n",
    "    if configs.split == 'split20':\n",
    "        val_loader = build_inference_data(configs, fold_id=fold_id, data_type='valid')\n",
    "        \n",
    "    test_loader = build_inference_data(configs, fold_id=fold_id, data_type='test')\n",
    "    return train_loader, val_loader, test_loader"
   ]
  },
  {
   "cell_type": "code",
   "execution_count": 253,
   "metadata": {},
   "outputs": [],
   "source": [
    "def input_padding(s1,len_target=D):  # D = 75 --> max doc length\n",
    "    s1 = torch.nn.functional.pad(s1,(0,0,0,D-s1.shape[1]),value=0)\n",
    "    return s1"
   ]
  },
  {
   "cell_type": "code",
   "execution_count": 254,
   "metadata": {},
   "outputs": [],
   "source": [
    "def labelTransform(doc_couples_b):\n",
    "    y_e_label = torch.zeros(batch_size, D, 2)\n",
    "    y_c_label = torch.zeros(batch_size, D, 2)\n",
    "\n",
    "    for i in range(batch_size):\n",
    "        for emo,cau in doc_couples_b[i]:\n",
    "            # print(emo,cau)\n",
    "            y_e_label[i][emo-1][0] = 1 # the True prob is col 0 and the False prob is col 1\n",
    "            y_c_label[i][cau-1][0] = 1\n",
    "\n",
    "    y_e_label.to(device=device)\n",
    "    y_c_label.to(device=device)\n",
    "\n",
    "    return y_e_label,y_c_label"
   ]
  },
  {
   "cell_type": "code",
   "execution_count": 255,
   "metadata": {},
   "outputs": [],
   "source": [
    "def loss_calc(y_e_list,y_c_list,doc_couples_b):\n",
    "    y_e_label,y_c_label = labelTransform(doc_couples_b)\n",
    "\n",
    "    loss_isml = 0\n",
    "    for n in range(N):  # can accelerate by n times with full vectorization\n",
    "        print(y_e_label.shape,y_e_list[n].shape)\n",
    "        loss_isml += -torch.sum(torch.mul(y_e_label,torch.log(y_e_list[n])))\\\n",
    "                        -torch.sum(torch.mul(y_c_label,torch.log(y_c_list[n])))\n",
    "        \n",
    "    return loss_isml"
   ]
  },
  {
   "cell_type": "code",
   "execution_count": 256,
   "metadata": {},
   "outputs": [
    {
     "name": "stderr",
     "output_type": "stream",
     "text": [
      "Token indices sequence length is longer than the specified maximum sequence length for this model (658 > 512). Running this sequence through the model will result in indexing errors\n",
      "Token indices sequence length is longer than the specified maximum sequence length for this model (730 > 512). Running this sequence through the model will result in indexing errors\n",
      "Some weights of the model checkpoint at bert-base-chinese were not used when initializing BertModel: ['cls.predictions.transform.dense.bias', 'cls.predictions.transform.LayerNorm.bias', 'cls.predictions.transform.dense.weight', 'cls.seq_relationship.weight', 'cls.seq_relationship.bias', 'cls.predictions.transform.LayerNorm.weight', 'cls.predictions.bias', 'cls.predictions.decoder.weight']\n",
      "- This IS expected if you are initializing BertModel from the checkpoint of a model trained on another task or with another architecture (e.g. initializing a BertForSequenceClassification model from a BertForPreTraining model).\n",
      "- This IS NOT expected if you are initializing BertModel from the checkpoint of a model that you expect to be exactly identical (initializing a BertForSequenceClassification model from a BertForSequenceClassification model).\n"
     ]
    },
    {
     "name": "stdout",
     "output_type": "stream",
     "text": [
      "torch.Size([8, 75, 200])\n",
      "2 2 torch.Size([8, 75, 2]) torch.Size([8, 75, 2])\n",
      "torch.Size([8, 75, 2]) torch.Size([8, 75, 2])\n",
      "torch.Size([8, 75, 2]) torch.Size([8, 75, 2])\n",
      "tensor(23.8013, grad_fn=<AddBackward0>)\n"
     ]
    }
   ],
   "source": [
    "def test_wholesys():\n",
    "    configs = Config()\n",
    "    train_set, val_set, test_set = load_data(configs)\n",
    "    data_iter = iter(train_set)\n",
    "    instance = next(data_iter)\n",
    "    # instance = next(data_iter)\n",
    "\n",
    "    # doc_len_b: document length in a batch\n",
    "    # adj_b: adj matrix in a batch, do not need this, #todo: will remove this\n",
    "    # y_emotions_b: binary vector indicating emotion clause in a batch, -1 means no sentences in this document\n",
    "    # y_causes_b: binary vector indicating cause clause in a batch, -1 means no sentences in this document\n",
    "    # y_mask_b: binary vector indicating whether a sentence is valid in a batch, -1 means no sentences in this document\n",
    "    # doc_couples_b: ground truth label in a batch\n",
    "    # doc_id_b: document id in a batch\n",
    "    # bert_token_b: input ids in a batch\n",
    "    # bert_segment_b: segment ids in a batch\n",
    "    # bert_masks_b: attention masks in a batch\n",
    "    # bert_clause_b: [CLS] index for each doc in a batch\n",
    "    doc_len_b, adj_b, y_emotions_b, y_causes_b, y_mask_b, doc_couples_b, doc_id_b, \\\n",
    "    bert_token_b, bert_segment_b, bert_masks_b, bert_clause_b = instance\n",
    "\n",
    "    \n",
    "\n",
    "    prev_model = Network()\n",
    "    s1 = prev_model(bert_token_b, bert_segment_b, bert_masks_b, bert_clause_b)\n",
    "    s1 = input_padding(s1)\n",
    "    s1.to(device=device)\n",
    "    print(s1.shape)\n",
    "    # print(doc_couples_b)\n",
    "\n",
    "    model = SecondHalfNet(N,D,hidden_size,device)\n",
    "    model = model.to(device=device)\n",
    "    model = torch.compile(model)    # Pytorch 2.0 acceleration\n",
    "    model.train()\n",
    "    y_e_list,y_c_list,s_final = model(s1)\n",
    "\n",
    "    print(len(y_e_list),len(y_c_list),y_e_list[0].shape,y_c_list[0].shape)\n",
    "    # print(s1)\n",
    "    # print(s_final)\n",
    "    # print(y_e_list)\n",
    "    # print(y_c_list)\n",
    "\n",
    "    # label2y(doc_couples_b)\n",
    "    print(loss_calc(y_e_list,y_c_list,doc_couples_b))\n",
    "\n",
    "    \n",
    "\n",
    "test_wholesys()"
   ]
  },
  {
   "cell_type": "code",
   "execution_count": 257,
   "metadata": {},
   "outputs": [],
   "source": [
    "# def training():\n",
    "#     s1 = torch.rand((batch_size, D, hidden_size*2), dtype=dtype,device=device,\\\n",
    "#                     requires_grad=False) \n",
    "\n",
    "#     model = SecondHalfNet(N,D,hidden_size,device)\n",
    "#     model = model.to(device=device)\n",
    "#     model = torch.compile(model)    # Pytorch 2.0 acceleration\n",
    "#     model.train()\n",
    "#     # model.eval()\n",
    "\n",
    "#     y_e_list,y_c_list,s_final = model(s1)"
   ]
  },
  {
   "cell_type": "code",
   "execution_count": null,
   "metadata": {},
   "outputs": [],
   "source": []
  }
 ],
 "metadata": {
  "kernelspec": {
   "display_name": "Py310",
   "language": "python",
   "name": "python3"
  },
  "language_info": {
   "codemirror_mode": {
    "name": "ipython",
    "version": 3
   },
   "file_extension": ".py",
   "mimetype": "text/x-python",
   "name": "python",
   "nbconvert_exporter": "python",
   "pygments_lexer": "ipython3",
   "version": "3.10.10"
  },
  "orig_nbformat": 4
 },
 "nbformat": 4,
 "nbformat_minor": 2
}
