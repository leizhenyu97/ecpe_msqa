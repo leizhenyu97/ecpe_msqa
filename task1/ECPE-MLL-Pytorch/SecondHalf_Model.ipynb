{
 "cells": [
  {
   "cell_type": "code",
   "execution_count": 134,
   "metadata": {},
   "outputs": [],
   "source": [
    "import torch\n",
    "import numpy as np\n",
    "import pandas as pd\n",
    "\n",
    "import torch.nn as nn\n",
    "import torch.optim as optim\n",
    "import torchvision.transforms as T\n",
    "\n",
    "import torchviz\n"
   ]
  },
  {
   "cell_type": "code",
   "execution_count": 135,
   "metadata": {},
   "outputs": [],
   "source": [
    "torch.manual_seed(0)\n",
    "np.random.seed(0)"
   ]
  },
  {
   "cell_type": "code",
   "execution_count": 136,
   "metadata": {},
   "outputs": [
    {
     "name": "stdout",
     "output_type": "stream",
     "text": [
      "using device: cpu\n"
     ]
    }
   ],
   "source": [
    "USE_GPU = True\n",
    "\n",
    "dtype = torch.float32 # we will be using float throughout this tutorial\n",
    "\n",
    "if USE_GPU and torch.cuda.is_available():   # For Nvidia GPU -- cuda\n",
    "    device = torch.device('cuda')\n",
    "elif USE_GPU and torch.backends.mps.is_available(): # For MacOS Ver >=12.3 -- Metal\n",
    "    device = torch.device(\"mps\")\n",
    "else:\n",
    "    device = torch.device('cpu')\n",
    "\n",
    "print('using device:', device)\n"
   ]
  },
  {
   "cell_type": "code",
   "execution_count": 137,
   "metadata": {},
   "outputs": [],
   "source": [
    "print_every = 100   # Constant to control how frequently we print train loss\n",
    "N = 2               # the repeating block number of ISML, should be >= 1\n",
    "D = 75\n",
    "hidden_size = 100\n",
    "# emb_length = 200\n",
    "batch_size = 32\n",
    "\n",
    "class SecondHalfNet(nn.Module):\n",
    "    def __init__(self,N,D,hidden_size,device):\n",
    "        super().__init__()\n",
    "\n",
    "        self.bilstm_e_list = []\n",
    "        self.bilstm_c_list = []\n",
    "        self.fc_e_list = []\n",
    "        self.fc_c_list = []\n",
    "        for n in range(N):\n",
    "            bilstm_e = nn.LSTM(input_size= hidden_size*2+4*n, hidden_size= hidden_size,\\\n",
    "                               num_layers= 1, batch_first=True,bidirectional=True)\n",
    "            self.bilstm_e_list.append(bilstm_e)\n",
    "\n",
    "            bilstm_c = nn.LSTM(input_size= hidden_size*2+4*n, hidden_size= hidden_size,\\\n",
    "                               num_layers= 1, batch_first=True,bidirectional=True)\n",
    "            self.bilstm_c_list.append(bilstm_c)\n",
    "\n",
    "            fc_e = nn.Linear(hidden_size*2,2)\n",
    "            # nn.init.kaiming_normal_(fc_e.weight)\n",
    "            self.fc_e_list.append(fc_e)\n",
    "\n",
    "            fc_c = nn.Linear(hidden_size*2,2)\n",
    "            # nn.init.kaiming_normal_(fc_c.weight)\n",
    "            self.fc_c_list.append(fc_c)\n",
    "\n",
    "\n",
    "    def forward(self, s1):\n",
    "        # scores = None\n",
    "        self.y_e_list = []\n",
    "        self.y_c_list = []\n",
    "        s_tmp = s1\n",
    "\n",
    "        for n in range(N):\n",
    "            # print(self.bilstm_e_list[n](s_tmp))\n",
    "            e_lstm_out,_ = self.bilstm_e_list[n](s_tmp)\n",
    "            y_e = nn.functional.softmax(self.fc_e_list[n](e_lstm_out),dim=2)\n",
    "            self.y_e_list.append(y_e)\n",
    "\n",
    "            c_lstm_out,_ = self.bilstm_c_list[n](s_tmp)\n",
    "            y_c = nn.functional.softmax(self.fc_c_list[n](c_lstm_out),dim=2)\n",
    "            self.y_c_list.append(y_c)\n",
    "\n",
    "            s_tmp = torch.cat((s_tmp,y_e,y_c),dim=2)\n",
    "            \n",
    "            # print('s_tmp shape',s_tmp.shape)\n",
    "        \n",
    "        \n",
    "        return self.y_e_list,self.y_c_list,s_tmp\n",
    "\n",
    "\n"
   ]
  },
  {
   "cell_type": "code",
   "execution_count": 138,
   "metadata": {},
   "outputs": [
    {
     "name": "stdout",
     "output_type": "stream",
     "text": [
      "s_tmp shape torch.Size([32, 75, 204])\n",
      "s_tmp shape torch.Size([32, 75, 208])\n",
      "2 2 torch.Size([32, 75, 2]) torch.Size([32, 75, 2])\n"
     ]
    }
   ],
   "source": [
    "def test_SecondHalfNet():\n",
    "    s1 = torch.rand((batch_size, D, hidden_size*2), dtype=dtype,device=device,\\\n",
    "                    requires_grad=False) \n",
    "\n",
    "    model = SecondHalfNet(N,D,hidden_size,device)\n",
    "    model = model.to(device=device)\n",
    "    model = torch.compile(model)    # Pytorch 2.0 acceleration\n",
    "    model.train()\n",
    "    # model.eval()\n",
    "\n",
    "    y_e_list,y_c_list,s_final = model(s1)\n",
    "    # print(len(y_e_list),len(y_c_list),y_e_list[0].shape,y_c_list[0].shape) \n",
    "\n",
    "    # torch.onnx.export(model, s1, 'secondhalf.onnx')\n",
    "    \n",
    "    # dots = torchviz.make_dot(s_tmp,params=dict(model.named_parameters()),show_attrs=False, show_saved=False)\n",
    "    # dots.format = 'png'\n",
    "    # dots.render('secondhalf_modelviz')\n",
    "    \n",
    "test_SecondHalfNet()"
   ]
  },
  {
   "cell_type": "code",
   "execution_count": null,
   "metadata": {},
   "outputs": [],
   "source": [
    "def training():\n",
    "    s1 = torch.rand((batch_size, D, hidden_size*2), dtype=dtype,device=device,\\\n",
    "                    requires_grad=False) \n",
    "\n",
    "    model = SecondHalfNet(N,D,hidden_size,device)\n",
    "    model = model.to(device=device)\n",
    "    model = torch.compile(model)    # Pytorch 2.0 acceleration\n",
    "    model.train()\n",
    "    # model.eval()\n",
    "\n",
    "    y_e_list,y_c_list,s_final = model(s1)"
   ]
  }
 ],
 "metadata": {
  "kernelspec": {
   "display_name": "Py310",
   "language": "python",
   "name": "python3"
  },
  "language_info": {
   "codemirror_mode": {
    "name": "ipython",
    "version": 3
   },
   "file_extension": ".py",
   "mimetype": "text/x-python",
   "name": "python",
   "nbconvert_exporter": "python",
   "pygments_lexer": "ipython3",
   "version": "3.10.10"
  },
  "orig_nbformat": 4
 },
 "nbformat": 4,
 "nbformat_minor": 2
}
