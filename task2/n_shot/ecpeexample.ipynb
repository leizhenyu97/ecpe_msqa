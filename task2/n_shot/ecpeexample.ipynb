{
 "cells": [
  {
   "cell_type": "code",
   "execution_count": 1,
   "metadata": {},
   "outputs": [],
   "source": [
    "from container import Container\n",
    "from template import Template, Example\n",
    "api_key = 'OpenAI-Key'\n",
    "model = Container(api_key, 'text-davinci-003')"
   ]
  },
  {
   "cell_type": "code",
   "execution_count": 2,
   "metadata": {},
   "outputs": [],
   "source": [
    "import os\n",
    "root = '../../data_json/'\n",
    "folder = 'split10'\n",
    "path = os.path.join(root, folder)\n",
    "\n",
    "text_files = [f for f in os.listdir(path) if f.endswith('.json')]\n",
    "train_files = [f for f in text_files if f.endswith('train.json')]\n",
    "test_files = [f for f in text_files if f.endswith('test.json')]"
   ]
  },
  {
   "cell_type": "code",
   "execution_count": 3,
   "metadata": {},
   "outputs": [],
   "source": [
    "from dataload import load_data, parse_data\n",
    "train_data = load_data(train_files, path) # data includes all files\n",
    "test_data = load_data(test_files, path) # data includes all files\n",
    "\n",
    "train_data0 = train_data[0] # first file data\n",
    "test_data0 = test_data[0]"
   ]
  },
  {
   "cell_type": "code",
   "execution_count": 12,
   "metadata": {},
   "outputs": [],
   "source": [
    "# for i in train_data0.iterrows():\n",
    "#     print(i[1].clauses[1])\n",
    "parse_train = parse_data(train_data0, 10)\n",
    "parse_test = parse_data(test_data0, 10)\n",
    "\n",
    "few_shot = [{'content': e['content'], 'pair': e['pair']} for e in parse_train]\n",
    "dev = [{'content': e['content'], 'pair': e['pair']} for e in parse_test]"
   ]
  },
  {
   "cell_type": "code",
   "execution_count": 6,
   "metadata": {},
   "outputs": [
    {
     "data": {
      "text/plain": [
       "[['Question:\\n', '{$ Question needs answer}'],\n",
       " ['Examples:\\n',\n",
       "  '{$ Several representative examples of the given question with answers}'],\n",
       " ['Content:\\n',\n",
       "  '{$ Passage with index which includes the emotion-cause pairs}']]"
      ]
     },
     "execution_count": 6,
     "metadata": {},
     "output_type": "execute_result"
    }
   ],
   "source": [
    "instruction = \"Think step by step. Give a response to the question in this format blew\"\n",
    "question = ['Question:\\n', '{$ Question needs answer}']\n",
    "train = ['Examples:\\n', '{$ Several representative examples of the given question with answers}']\n",
    "content = ['Content:\\n', '{$ Passage with index which includes the emotion-cause pairs}']\n",
    "\n",
    "template = Template(instruction=instruction)\n",
    "template(question=question, train=train, content=content)"
   ]
  },
  {
   "cell_type": "code",
   "execution_count": 7,
   "metadata": {},
   "outputs": [],
   "source": [
    "question_temp1 = '''Extract emotion-cause pairs and return tuples based on the given content.\n",
    "In each tuple, the first element is the index of the emotion clause and the second element is the index of cause clause.\n",
    "    '''"
   ]
  },
  {
   "cell_type": "code",
   "execution_count": 8,
   "metadata": {},
   "outputs": [],
   "source": [
    "def few_shot_ecpe(model, template, content, temp=0.7, n=2):\n",
    "    train = few_shot[:5]\n",
    "    question = question_temp1\n",
    "    example = Example(question=question, train=train, content=content)\n",
    "    completion = model.chat(template, example, temp, n)\n",
    "    return completion"
   ]
  },
  {
   "cell_type": "code",
   "execution_count": 9,
   "metadata": {},
   "outputs": [
    {
     "name": "stdout",
     "output_type": "stream",
     "text": [
      "Think step by step. Give a response to the question in this format blew\n",
      "---\n",
      "Question:\n",
      " {$ Question needs answer}\n",
      "Examples:\n",
      " {$ Several representative examples of the given question with answers}\n",
      "Content:\n",
      " {$ Passage with index which includes the emotion-cause pairs}\n",
      "---\n",
      "Question:\n",
      "Extract emotion-cause pairs and return tuples based on the given content.\n",
      "In each tuple, the first element is the index of the emotion clause and the second element is the index of cause clause.\n",
      "    \n",
      "Examples:\n",
      "[{'content': '1 6月6日\\n2 黄某出差到江门市新会区\\n3 需半个月才能回广州\\n4 她将这个消息在网上告诉了钟小枫\\n5 6月9日\\n6 钟小枫联系黄某\\n7 称出差到香港\\n8 打算购买黄金项链钻石戒指等物品\\n9 准备向黄某求婚\\n10 黄某兴奋不已\\n', 'pair': [10, 9]}, {'content': '1 扶个老人真的是土豪才能做的好事吗\\n2 南京彭宇案后多起扶老被讹案令不少路人遇事心寒选择避走\\n3 然而\\n4 扶老就一定会被讹吗\\n5 未必\\n6 此前有河源市三名法官勇扶雨中摔倒的八旬老太\\n7 最近有东莞小伙撞人肇事被判赔28万多元\\n8 事实证明\\n9 老人一口咬定的不一定能定赔\\n10 抱侥幸心态抵赖的也推脱不掉责任\\n', 'pair': [2, 2]}, {'content': '1 6月10日\\n2 吴某手缠纱布回家\\n3 说她把1万元钱给了前女友\\n4 但还是被对方扎伤了左手\\n5 并说她的前女友又索要1.5万元\\n6 否则就要剁吴某的手\\n7 孙女士打算报警却被吴某阻止并以分手相要挟\\n8 孙女士无奈之下答应再给吴某1.5万元\\n9 但很快\\n10 孙女士发现自己被骗了\\n11 原来吴某将索要的钱都用于赌球了\\n12 并输得精光\\n13 手缠纱布也是装的\\n', 'pair': [8, 7]}, {'content': '1 报道称\\n2 这起事件发生在本月12日\\n3 这只小狗冒着近38摄氏度的高温\\n4 在主人的尸体旁守候了好几个小时\\n5 虽然附近就有水源和遮挡阳光的地方\\n6 但小狗一直寸步不离\\n7 在被动物管理部门人员带走时\\n8 这只小狗不断挣扎\\n9 只想返回主人身边\\n10 其主人系自然死亡\\n11 据信是一名流浪汉\\n12 小狗在抵达收容中心后极度哀伤\\n13 拒绝进食及饮水\\n14 也不发出任何声响\\n15 甚至不愿意抬头\\n', 'pair': [12, 10]}, {'content': '1 2014年1月24日\\n2 吴某应小梅之约在衢州市衢江区樟潭街道一家宾馆见面\\n3 两人再次发生有偿性关系\\n4 其后\\n5 小梅提出要与吴某断绝关系\\n6 吴某不肯\\n7 两人发生争执\\n8 小梅对吴某表现出厌恶\\n9 并称要叫人来\\n10 吴某见小梅不念旧情\\n11 每次约会都要用钱维系关系\\n12 一怒之下吴某用双手用力掐小梅的脖子\\n13 直至小梅死亡\\n', 'pair': [8, 7]}]\n",
      "Content:\n",
      "1 据白金跃介绍\n",
      "2 自1988年至今\n",
      "3 他向国家各部委提出合理化建议1000多条\n",
      "4 并多次被各部委采纳\n",
      "5 曾荣获国家十二五建言献策个人一等奖河北省建言献策三等奖\n",
      "6 当日\n",
      "7 跟中新网记者谈起建言献策的初衷\n",
      "8 白金跃陷入回忆\n",
      "9 并略显激动\n",
      "\n",
      "\n",
      "183\n"
     ]
    }
   ],
   "source": [
    "completion = few_shot_ecpe(model, template, dev[1]['content'], temp=0.3, n=1)"
   ]
  },
  {
   "cell_type": "code",
   "execution_count": 10,
   "metadata": {},
   "outputs": [
    {
     "data": {
      "text/plain": [
       "[<OpenAIObject at 0x7f8f2d9a24f0> JSON: {\n",
       "   \"finish_reason\": \"stop\",\n",
       "   \"index\": 0,\n",
       "   \"logprobs\": null,\n",
       "   \"text\": \"\\nAnswer:\\n[(7, 6), (8, 7)]\"\n",
       " }]"
      ]
     },
     "execution_count": 10,
     "metadata": {},
     "output_type": "execute_result"
    }
   ],
   "source": [
    "completion.choices"
   ]
  },
  {
   "cell_type": "code",
   "execution_count": 11,
   "metadata": {},
   "outputs": [
    {
     "data": {
      "text/plain": [
       "[9, 8]"
      ]
     },
     "execution_count": 11,
     "metadata": {},
     "output_type": "execute_result"
    }
   ],
   "source": [
    "dev[1]['pair']"
   ]
  }
 ],
 "metadata": {
  "kernelspec": {
   "display_name": "cs685",
   "language": "python",
   "name": "python3"
  },
  "language_info": {
   "codemirror_mode": {
    "name": "ipython",
    "version": 3
   },
   "file_extension": ".py",
   "mimetype": "text/x-python",
   "name": "python",
   "nbconvert_exporter": "python",
   "pygments_lexer": "ipython3",
   "version": "3.9.15"
  },
  "orig_nbformat": 4
 },
 "nbformat": 4,
 "nbformat_minor": 2
}
