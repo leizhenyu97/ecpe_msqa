{
 "cells": [
  {
   "cell_type": "code",
   "execution_count": 82,
   "metadata": {},
   "outputs": [],
   "source": [
    "from container import Container\n",
    "from template import Template, Example\n",
    "api_key = 'OpenAI-Key'\n",
    "model = Container(api_key, 'text-davinci-003')"
   ]
  },
  {
   "cell_type": "code",
   "execution_count": 83,
   "metadata": {},
   "outputs": [
    {
     "name": "stderr",
     "output_type": "stream",
     "text": [
      "/var/folders/sb/nbhxgzzj2ds2h3yjxjyn8f2w0000gn/T/ipykernel_11413/1599189418.py:6: FutureWarning: The frame.append method is deprecated and will be removed from pandas in a future version. Use pandas.concat instead.\n",
      "  five_shot_train = train.loc[train['pairs'].apply(len) == 1].sample(3).append(\n",
      "/var/folders/sb/nbhxgzzj2ds2h3yjxjyn8f2w0000gn/T/ipykernel_11413/1599189418.py:6: FutureWarning: The frame.append method is deprecated and will be removed from pandas in a future version. Use pandas.concat instead.\n",
      "  five_shot_train = train.loc[train['pairs'].apply(len) == 1].sample(3).append(\n"
     ]
    }
   ],
   "source": [
    "import pandas as pd\n",
    "from dataload import parse_data\n",
    "train = pd.read_json('train.json')\n",
    "test = pd.read_json('example.json')\n",
    "one_shot_train = train.loc[train['pairs'].apply(len) == 1].sample(1)\n",
    "five_shot_train = train.loc[train['pairs'].apply(len) == 1].sample(3).append(\n",
    "    train.loc[train['pairs'].apply(len) == 2].sample(1)).append(\n",
    "    train.loc[train['pairs'].apply(len) == 3].sample(1))"
   ]
  },
  {
   "cell_type": "code",
   "execution_count": 84,
   "metadata": {},
   "outputs": [],
   "source": [
    "parse_train_1 = parse_data(one_shot_train)\n",
    "parse_train_5 = parse_data(five_shot_train)\n",
    "# parse_train_6 = parse_data(ten_shot_train)\n",
    "parse_test = parse_data(test)"
   ]
  },
  {
   "cell_type": "code",
   "execution_count": 85,
   "metadata": {},
   "outputs": [],
   "source": [
    "# question_temp = '''Extract emotion-cause pairs and return a list of tuple based on the given content.\n",
    "# In each tuple, the first element is the index of the emotion clause and the second element is the index of cause clause.'''\n",
    "\n",
    "# question_temp_pair_num_limit = '''Extract 1 to 4 emotion-cause pairs and return a list of tuple based on the given content.\n",
    "# In each tuple, the first element is the index of the emotion clause and the second element is the index of cause clause.'''\n",
    "\n",
    "# question_temp_sequence_prompt = '''Extract emotion-cause pairs and return a list of tuple based on the given content.\n",
    "# In each tuple, the first element is the index of the emotion clause and the second element is the index of cause clause.\n",
    "# The cause clause usually appears in the front of emotion clause'''\n",
    "\n",
    "# question_temp_both_hint = '''Extract 1 to 4 emotion-cause pairs and return a list of tuple based on the given content.\n",
    "# In each tuple, the first element is the index of the emotion clause and the second element is the index of cause clause.\n",
    "# The cause clause usually appears in the front of emotion clause'''\n",
    "\n",
    "# DATA = parse_train_5\n",
    "FILENAME = 'prompt_5_shot.txt'\n",
    "RESULTNAME = 'result_5_shot.txt'\n",
    "TASK_SIMBOL = '任务4'\n",
    "TASK_SIMBOL2 = '：'\n",
    "TASK_SIMBOL = 'Task 4'\n",
    "TASK_SIMBOL2 = ':'\n",
    "# QUESTION = question_temp"
   ]
  },
  {
   "cell_type": "code",
   "execution_count": 86,
   "metadata": {},
   "outputs": [],
   "source": [
    "# few_shot = [{'content': e['content'], 'pair': e['pair']} for e in DATA]\n",
    "dev = [{'content': e['content'], 'pair': e['pair']} for e in parse_test]"
   ]
  },
  {
   "cell_type": "code",
   "execution_count": 87,
   "metadata": {},
   "outputs": [
    {
     "data": {
      "text/plain": [
       "['\"\\nEach line of the content represents a clause, and the number at the beginning of each line indicates the clause number. We refer to the clauses that contain emotional expressions as \"emotion clauses\" and the clauses that cause emotions as \"cause clauses\". Based on the content, complete the following tasks:\\n1. Describe the emotion contained in the document in one sentence and its corresponding cause.\\n2. Output the clause number of the emotion clause for Task 1. You only need to find the clause with the strongest emotional intensity.\\n3. For each emotion clause in Task 2, find the cause clause that caused the emotion and output the clause number of the cause clause. You only need to find the clause that best meets the requirements.\\n4. Match the clauses with causal relationships in the form of \\'[emotion clause number, cause clause number]\\', and output all paired numbers in list format, for example, Task 4: [[1,2],[3,4]]. \\nNote: the emotion clause and the cause clause may be the same clause, and only the most obvious emotion-cause pairing needs to be outputted.\\nBesure to output in this format: Task 1: ... Task 2: ...']"
      ]
     },
     "execution_count": 87,
     "metadata": {},
     "output_type": "execute_result"
    }
   ],
   "source": [
    "instruction = \"文档：\\\"\"\n",
    "question = '''\\\"\n",
    "以上文档的每一行代表一个子句，每行开头的数字表示该子句的编号。\n",
    "我们将包含情绪表达的子句称为“情绪子句”，将导致情绪发生的子句\n",
    "称为“原因子句”。基于以上内容, 分别完成以下任务。1. 用一句话描\n",
    "述以上文档中包含的情绪以及它对应的原因。2. 输出任务1中情绪子句\n",
    "的编号, 你只需要找到情绪强度最强的那一个子句。3.对于任务2中的每\n",
    "个情绪子句，找到导致其情绪的原因子句，并输出原因子句的编号，你\n",
    "只需要找到最符合要求的那一个子句。4.将以上具有因果关系的子句匹\n",
    "配成'(情绪子句编号，原因子句编号)'的形式，最后将所有的编号配对按\n",
    "照集合的形式输出，例如 任务：[[1,2],[3,4]]。注意：情绪子句和原因子句有可\n",
    "能是同一个子句，且最终只需要输出情绪和原因最明显的配对。'''\n",
    "\n",
    "instruction = \"content: \\\"\"\n",
    "question = '''\\\"\n",
    "Each line of the content represents a clause, and the number at the beginning of each line indicates the clause number. We refer to the clauses that contain emotional expressions as \"emotion clauses\" and the clauses that cause emotions as \"cause clauses\". Based on the content, complete the following tasks:\n",
    "1. Describe the emotion contained in the document in one sentence and its corresponding cause.\n",
    "2. Output the clause number of the emotion clause for Task 1. You only need to find the clause with the strongest emotional intensity.\n",
    "3. For each emotion clause in Task 2, find the cause clause that caused the emotion and output the clause number of the cause clause. You only need to find the clause that best meets the requirements.\n",
    "4. Match the clauses with causal relationships in the form of '[emotion clause number, cause clause number]', and output all paired numbers in list format, for example, Task 4: [[1,2],[3,4]]. \n",
    "Note: the emotion clause and the cause clause may be the same clause, and only the most obvious emotion-cause pairing needs to be outputted.\n",
    "Besure to output in this format: Task 1: ... Task 2: ...'''\n",
    "\n",
    "template = Template(instruction=instruction)\n",
    "template(question=question)\n",
    "# template(question=question, content=content)"
   ]
  },
  {
   "cell_type": "code",
   "execution_count": 88,
   "metadata": {},
   "outputs": [],
   "source": [
    "def few_shot_ecpe(model, template, content, temp=0.7, n=2):\n",
    "    # train = few_shot[:10]\n",
    "    example = Example(content=content)\n",
    "    completion, prompt = model.chat(template, example, temp, n)\n",
    "    return completion, prompt"
   ]
  },
  {
   "cell_type": "code",
   "execution_count": 89,
   "metadata": {},
   "outputs": [
    {
     "name": "stderr",
     "output_type": "stream",
     "text": [
      "100%|██████████| 100/100 [07:57<00:00,  4.78s/it]\n"
     ]
    }
   ],
   "source": [
    "from tqdm import tqdm\n",
    "prompts = []\n",
    "predict = []\n",
    "result = []\n",
    "for i in tqdm(range(100)):\n",
    "    completion, prompt = few_shot_ecpe(model, template, dev[i]['content'], temp=0.3, n=1)\n",
    "    # predict.append(completion.choices[0].text.split(':')[1])\n",
    "    predict.append(completion.choices[0].text)\n",
    "    prompts.append(prompt)\n",
    "    result.append(dev[i]['pair'])"
   ]
  },
  {
   "cell_type": "code",
   "execution_count": 91,
   "metadata": {},
   "outputs": [],
   "source": [
    "def parse_to_list(data):\n",
    "    result = []\n",
    "    for i in range(len(data)):\n",
    "        index = data[i].find(TASK_SIMBOL)\n",
    "        # print(data[i])\n",
    "        predicted = data[i][index:]\n",
    "        predicted = predicted.split(TASK_SIMBOL2)[1]\n",
    "        predicted = predicted.replace('(', '[').replace(')', ']') #replace all () to []\n",
    "        predicted = predicted.replace('。', '')\n",
    "        predicted = predicted.strip() # strip all begining space\n",
    "        predicted = eval(predicted)\n",
    "        result.append(predicted)\n",
    "    return result\n",
    "\n",
    "predict = parse_to_list(predict)"
   ]
  },
  {
   "cell_type": "code",
   "execution_count": 92,
   "metadata": {},
   "outputs": [
    {
     "data": {
      "text/plain": [
       "(0.11564625850340136, 0.14782608695652175, 0.12977099236641224, 17, 147, 115)"
      ]
     },
     "execution_count": 92,
     "metadata": {},
     "output_type": "execute_result"
    }
   ],
   "source": [
    "def compare(Y1, Y2):\n",
    "    '''Y1: Y_hat case, Y2: Y case'''\n",
    "    correct = 0\n",
    "    for c in Y2:\n",
    "        if c in Y1:\n",
    "            correct += 1\n",
    "    return correct, len(Y1), len(Y2)\n",
    "\n",
    "def calc_precision(Y_hat, Y):\n",
    "    assert len(Y_hat) == len(Y), print('shape mismatched')\n",
    "    correct = 0\n",
    "    total = 0\n",
    "    ground_true = 0\n",
    "    for i in range(len(Y_hat)):\n",
    "        c, t, a = compare(Y_hat[i], Y[i])\n",
    "        correct += c\n",
    "        total += t\n",
    "        ground_true += a\n",
    "    precision = correct/total\n",
    "    recall = correct/ground_true\n",
    "    f1 = 2 * precision * recall / (precision + recall)\n",
    "    return precision, recall, f1, correct, total, ground_true\n",
    "\n",
    "calc_precision(predict, result)\n"
   ]
  }
 ],
 "metadata": {
  "kernelspec": {
   "display_name": "cs685",
   "language": "python",
   "name": "python3"
  },
  "language_info": {
   "codemirror_mode": {
    "name": "ipython",
    "version": 3
   },
   "file_extension": ".py",
   "mimetype": "text/x-python",
   "name": "python",
   "nbconvert_exporter": "python",
   "pygments_lexer": "ipython3",
   "version": "3.9.15"
  },
  "orig_nbformat": 4
 },
 "nbformat": 4,
 "nbformat_minor": 2
}
