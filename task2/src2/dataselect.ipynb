{
 "cells": [
  {
   "cell_type": "code",
   "execution_count": 105,
   "metadata": {},
   "outputs": [],
   "source": [
    "import pandas as pd\n",
    "import os\n",
    "\n",
    "root = '../../data_json/'\n",
    "folder1 = 'split10'\n",
    "folder2 = 'split20'\n",
    "path1 = os.path.join(root, folder1)\n",
    "path2 = os.path.join(root, folder2)"
   ]
  },
  {
   "cell_type": "code",
   "execution_count": 106,
   "metadata": {},
   "outputs": [
    {
     "name": "stderr",
     "output_type": "stream",
     "text": [
      "/var/folders/sb/nbhxgzzj2ds2h3yjxjyn8f2w0000gn/T/ipykernel_62266/1814677601.py:9: FutureWarning: The frame.append method is deprecated and will be removed from pandas in a future version. Use pandas.concat instead.\n",
      "  df = data1.append(data2).drop_duplicates(subset=['clauses']).reset_index(drop=True)\n"
     ]
    },
    {
     "data": {
      "text/html": [
       "<div>\n",
       "<style scoped>\n",
       "    .dataframe tbody tr th:only-of-type {\n",
       "        vertical-align: middle;\n",
       "    }\n",
       "\n",
       "    .dataframe tbody tr th {\n",
       "        vertical-align: top;\n",
       "    }\n",
       "\n",
       "    .dataframe thead th {\n",
       "        text-align: right;\n",
       "    }\n",
       "</style>\n",
       "<table border=\"1\" class=\"dataframe\">\n",
       "  <thead>\n",
       "    <tr style=\"text-align: right;\">\n",
       "      <th></th>\n",
       "      <th>doc_id</th>\n",
       "      <th>doc_len</th>\n",
       "      <th>pairs</th>\n",
       "      <th>clauses</th>\n",
       "    </tr>\n",
       "  </thead>\n",
       "  <tbody>\n",
       "    <tr>\n",
       "      <th>0</th>\n",
       "      <td>1</td>\n",
       "      <td>9</td>\n",
       "      <td>[[7, 9]]</td>\n",
       "      <td>[{'clause_id': '1', 'emotion_category': 'null'...</td>\n",
       "    </tr>\n",
       "    <tr>\n",
       "      <th>1</th>\n",
       "      <td>2</td>\n",
       "      <td>9</td>\n",
       "      <td>[[9, 8]]</td>\n",
       "      <td>[{'clause_id': '1', 'emotion_category': 'null'...</td>\n",
       "    </tr>\n",
       "    <tr>\n",
       "      <th>2</th>\n",
       "      <td>3</td>\n",
       "      <td>15</td>\n",
       "      <td>[[12, 12]]</td>\n",
       "      <td>[{'clause_id': '1', 'emotion_category': 'null'...</td>\n",
       "    </tr>\n",
       "    <tr>\n",
       "      <th>3</th>\n",
       "      <td>4</td>\n",
       "      <td>12</td>\n",
       "      <td>[[12, 9], [12, 10], [12, 11]]</td>\n",
       "      <td>[{'clause_id': '1', 'emotion_category': 'null'...</td>\n",
       "    </tr>\n",
       "    <tr>\n",
       "      <th>4</th>\n",
       "      <td>5</td>\n",
       "      <td>7</td>\n",
       "      <td>[[7, 6]]</td>\n",
       "      <td>[{'clause_id': '1', 'emotion_category': 'null'...</td>\n",
       "    </tr>\n",
       "    <tr>\n",
       "      <th>...</th>\n",
       "      <td>...</td>\n",
       "      <td>...</td>\n",
       "      <td>...</td>\n",
       "      <td>...</td>\n",
       "    </tr>\n",
       "    <tr>\n",
       "      <th>1940</th>\n",
       "      <td>2101</td>\n",
       "      <td>13</td>\n",
       "      <td>[[6, 6]]</td>\n",
       "      <td>[{'clause_id': '1', 'emotion_category': 'null'...</td>\n",
       "    </tr>\n",
       "    <tr>\n",
       "      <th>1941</th>\n",
       "      <td>2102</td>\n",
       "      <td>15</td>\n",
       "      <td>[[10, 9]]</td>\n",
       "      <td>[{'clause_id': '1', 'emotion_category': 'null'...</td>\n",
       "    </tr>\n",
       "    <tr>\n",
       "      <th>1942</th>\n",
       "      <td>2103</td>\n",
       "      <td>11</td>\n",
       "      <td>[[11, 9]]</td>\n",
       "      <td>[{'clause_id': '1', 'emotion_category': 'null'...</td>\n",
       "    </tr>\n",
       "    <tr>\n",
       "      <th>1943</th>\n",
       "      <td>2104</td>\n",
       "      <td>11</td>\n",
       "      <td>[[8, 5], [8, 6], [8, 7]]</td>\n",
       "      <td>[{'clause_id': '1', 'emotion_category': 'null'...</td>\n",
       "    </tr>\n",
       "    <tr>\n",
       "      <th>1944</th>\n",
       "      <td>2105</td>\n",
       "      <td>10</td>\n",
       "      <td>[[6, 5]]</td>\n",
       "      <td>[{'clause_id': '1', 'emotion_category': 'null'...</td>\n",
       "    </tr>\n",
       "  </tbody>\n",
       "</table>\n",
       "<p>1945 rows × 4 columns</p>\n",
       "</div>"
      ],
      "text/plain": [
       "      doc_id  doc_len                          pairs  \\\n",
       "0          1        9                       [[7, 9]]   \n",
       "1          2        9                       [[9, 8]]   \n",
       "2          3       15                     [[12, 12]]   \n",
       "3          4       12  [[12, 9], [12, 10], [12, 11]]   \n",
       "4          5        7                       [[7, 6]]   \n",
       "...      ...      ...                            ...   \n",
       "1940    2101       13                       [[6, 6]]   \n",
       "1941    2102       15                      [[10, 9]]   \n",
       "1942    2103       11                      [[11, 9]]   \n",
       "1943    2104       11       [[8, 5], [8, 6], [8, 7]]   \n",
       "1944    2105       10                       [[6, 5]]   \n",
       "\n",
       "                                                clauses  \n",
       "0     [{'clause_id': '1', 'emotion_category': 'null'...  \n",
       "1     [{'clause_id': '1', 'emotion_category': 'null'...  \n",
       "2     [{'clause_id': '1', 'emotion_category': 'null'...  \n",
       "3     [{'clause_id': '1', 'emotion_category': 'null'...  \n",
       "4     [{'clause_id': '1', 'emotion_category': 'null'...  \n",
       "...                                                 ...  \n",
       "1940  [{'clause_id': '1', 'emotion_category': 'null'...  \n",
       "1941  [{'clause_id': '1', 'emotion_category': 'null'...  \n",
       "1942  [{'clause_id': '1', 'emotion_category': 'null'...  \n",
       "1943  [{'clause_id': '1', 'emotion_category': 'null'...  \n",
       "1944  [{'clause_id': '1', 'emotion_category': 'null'...  \n",
       "\n",
       "[1945 rows x 4 columns]"
      ]
     },
     "execution_count": 106,
     "metadata": {},
     "output_type": "execute_result"
    }
   ],
   "source": [
    "from dataload import read_file_under_paths, load_data\n",
    "\n",
    "file_names1 = read_file_under_paths(path1, \".json\")\n",
    "data1 = pd.concat(load_data(file_names1, path1))\n",
    "\n",
    "file_names2 = read_file_under_paths(path2, \".json\")\n",
    "data2 = pd.concat(load_data(file_names2, path2))\n",
    "\n",
    "df = data1.append(data2).drop_duplicates(subset=['clauses']).reset_index(drop=True)\n",
    "df"
   ]
  },
  {
   "cell_type": "code",
   "execution_count": 107,
   "metadata": {},
   "outputs": [
    {
     "data": {
      "text/plain": [
       "4"
      ]
     },
     "execution_count": 107,
     "metadata": {},
     "output_type": "execute_result"
    }
   ],
   "source": [
    "l = df['pairs'].apply(len)\n",
    "l.max()"
   ]
  },
  {
   "cell_type": "code",
   "execution_count": 108,
   "metadata": {},
   "outputs": [],
   "source": [
    "train1 = df.loc[df['pairs'].apply(len) == 1].sample(5)\n",
    "train2 = df.loc[df['pairs'].apply(len) == 2].sample(3)\n",
    "train3 = df.loc[df['pairs'].apply(len) == 3].sample(2)\n",
    "\n",
    "train = pd.concat([train1, train2, train3])\n",
    "train.to_json('train.json')"
   ]
  },
  {
   "cell_type": "code",
   "execution_count": 109,
   "metadata": {},
   "outputs": [],
   "source": [
    "df = df.drop(train.index)\n",
    "example = df.sample(100)\n",
    "example.to_json('example.json')"
   ]
  }
 ],
 "metadata": {
  "kernelspec": {
   "display_name": "cs685",
   "language": "python",
   "name": "python3"
  },
  "language_info": {
   "codemirror_mode": {
    "name": "ipython",
    "version": 3
   },
   "file_extension": ".py",
   "mimetype": "text/x-python",
   "name": "python",
   "nbconvert_exporter": "python",
   "pygments_lexer": "ipython3",
   "version": "3.9.15"
  },
  "orig_nbformat": 4
 },
 "nbformat": 4,
 "nbformat_minor": 2
}
